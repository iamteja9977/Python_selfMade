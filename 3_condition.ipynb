{
 "cells": [
  {
   "cell_type": "markdown",
   "metadata": {},
   "source": [
    "# Conditional Statements"
   ]
  },
  {
   "cell_type": "markdown",
   "metadata": {},
   "source": [
    "# Only if statements"
   ]
  },
  {
   "cell_type": "code",
   "execution_count": 1,
   "metadata": {},
   "outputs": [
    {
     "name": "stdout",
     "output_type": "stream",
     "text": [
      "Yes 5 is  Greater than 2\n",
      "Yes 5 is  Greater than 2\n",
      "Yes 5 is  Greater than 2\n",
      "Rest of The Code\n",
      "Greater\n",
      "5 is greater than 2\n",
      "Rest of The Code\n",
      "Greater\n",
      "5 is greater than 2\n",
      "6 is Greater than 2\n",
      "Rest of The Code\n",
      "Rest of the Code\n"
     ]
    }
   ],
   "source": [
    "# If statement\n",
    "if 5>2:\n",
    "\tprint(\"Yes 5 is  Greater than 2\")\n",
    "\n",
    "# If Statement in Single Line\n",
    "if 5>2: print(\"Yes 5 is  Greater than 2\")\n",
    "\n",
    "# If Statement with Rest of the Code\n",
    "if 5>2:\n",
    "\tprint(\"Yes 5 is  Greater than 2\")\n",
    "print(\"Rest of The Code\")\n",
    "\n",
    "# If Statement with Group of Statement\n",
    "if 5>2:\n",
    "\tprint(\"Greater\")\n",
    "\tprint(\"5 is greater than 2\")\n",
    "print(\"Rest of The Code\")\n",
    "\n",
    "# Nested If Statement\n",
    "if 5>2:\n",
    "\tprint(\"Greater\")\n",
    "\tprint(\"5 is greater than 2\")\n",
    "\tif(6>2):\n",
    "\t\tprint(\"6 is Greater than 2\")\n",
    "print(\"Rest of The Code\")\n",
    "\n",
    "# If statement with Logical Operator\n",
    "if 5>2 and 7<3:\n",
    "\tprint(\"If statement with Logical Operator\")\n",
    "\tprint(\"Statement 2\")\n",
    "print(\"Rest of the Code\")"
   ]
  },
  {
   "cell_type": "code",
   "execution_count": 3,
   "metadata": {},
   "outputs": [
    {
     "name": "stdout",
     "output_type": "stream",
     "text": [
      "You have Entered: 5\n"
     ]
    }
   ],
   "source": [
    "a = int(input(\"Enter Number Greater than 2: \"))\n",
    "if(a > 2):\n",
    "\tprint(\"You have Entered:\", a)\n",
    "    #else part was not handled here, if you enter the number less than 2 it won't do anything"
   ]
  },
  {
   "cell_type": "markdown",
   "metadata": {},
   "source": [
    "indetation"
   ]
  },
  {
   "cell_type": "code",
   "execution_count": 4,
   "metadata": {},
   "outputs": [
    {
     "name": "stdout",
     "output_type": "stream",
     "text": [
      "Greater\n",
      "5 is greater than 2\n",
      "6 is Greater than 2\n",
      "Rest of The Code\n"
     ]
    }
   ],
   "source": [
    "if 5>2:\n",
    "\tprint(\"Greater\")\n",
    "\tprint(\"5 is greater than 2\")\n",
    "\tif(6>2):\n",
    "\t\tprint(\"6 is Greater than 2\")\n",
    "print(\"Rest of The Code\")"
   ]
  },
  {
   "cell_type": "markdown",
   "metadata": {},
   "source": [
    "# If and else statements"
   ]
  },
  {
   "cell_type": "code",
   "execution_count": 5,
   "metadata": {},
   "outputs": [
    {
     "name": "stdout",
     "output_type": "stream",
     "text": [
      "Smaller\n",
      "Smaller\n",
      "Smaller\n",
      "Rest of The Code\n",
      "Smaller\n",
      "Statement 2\n",
      "Rest of The Code\n",
      "a is greater than b\n",
      "c is Greater than d\n",
      "Rest of The Code\n",
      "Else Statement\n",
      "Rest of the Code\n"
     ]
    }
   ],
   "source": [
    "# If Else statement\n",
    "if 5<2:\n",
    "\tprint(\"Greater\")\n",
    "else:\n",
    "\tprint(\"Smaller\")\n",
    "\n",
    "# If Else Statement in Single Line\n",
    "print(\"Greater\") if 5<2 else print(\"Smaller\")\n",
    "\n",
    "# If Else Statement with Rest of the Code\n",
    "if 5<2:\n",
    "\tprint(\"Greater\")\n",
    "else:\n",
    "\tprint(\"Smaller\")\n",
    "print(\"Rest of The Code\")\n",
    "\n",
    "# If Else Statement with Group of Statement\n",
    "if 5<2:\n",
    "\tprint(\"Greater\")\n",
    "\tprint(\"5 is greater than 2\")\n",
    "else:\n",
    "\tprint(\"Smaller\")\n",
    "\tprint(\"Statement 2\")\n",
    "print(\"Rest of The Code\")\n",
    "\n",
    "# Nested If  Else Statement\n",
    "a = 5\n",
    "b = 2\n",
    "c = 6\n",
    "d = 3\n",
    "if a>b:\n",
    "\tprint(\"a is greater than b\")\n",
    "\tif(c>d):\n",
    "\t\tprint(\"c is Greater than d\")\n",
    "\telse:\n",
    "\t\tprint(\"d is Greater than c\")\n",
    "else:\n",
    "\tprint(\"b is greater than a\")\n",
    "print(\"Rest of The Code\")\n",
    "\n",
    "# If Else statement with Logical Operator\n",
    "if 5>2 and 7<3:\n",
    "\tprint(\"If statement with Logical Operator\")\n",
    "\tprint(\"Statement 2\")\n",
    "else:\n",
    "\tprint(\"Else Statement\")\n",
    "print(\"Rest of the Code\")\n",
    "\n",
    "\t\t\t"
   ]
  },
  {
   "cell_type": "code",
   "execution_count": 6,
   "metadata": {},
   "outputs": [
    {
     "name": "stdout",
     "output_type": "stream",
     "text": [
      "Wrong!! You have Entered: 1\n"
     ]
    }
   ],
   "source": [
    "a = int(input(\"Enter Number Greater than 2: \"))\n",
    "if(a >= 2):\n",
    "\tprint(\"Correct!! You have Entered:\", a)\n",
    "else:\n",
    "\tprint(\"Wrong!! You have Entered:\", a)\n",
    "\n",
    "# Previously we are not hangling but here we are handling what if user enter number less than 2"
   ]
  },
  {
   "cell_type": "markdown",
   "metadata": {},
   "source": [
    "# Example Program"
   ]
  },
  {
   "cell_type": "code",
   "execution_count": 7,
   "metadata": {},
   "outputs": [
    {
     "name": "stdout",
     "output_type": "stream",
     "text": [
      "a is less than b\n",
      "a is less than b\n"
     ]
    }
   ],
   "source": [
    "# If elif Statement\n",
    "a = 10\n",
    "b = 20\n",
    "if a > b:\n",
    "\tprint(\"a is greater than b\")\n",
    "elif a == b:\n",
    "\tprint(\"a and b are equal\")\n",
    "elif a < b:\n",
    "\tprint(\"a is less than b\")\n",
    "\n",
    "# If elif with User Input\n",
    "a = int(input(\"Enter Value of A: \"))\n",
    "b = int(input(\"Enter Value of B: \"))\n",
    "if a > b:\n",
    "\tprint(\"a is greater than b\")\n",
    "elif a == b:\n",
    "\tprint(\"a and b are equal\")\n",
    "elif a < b:\n",
    "\tprint(\"a is less than b\")"
   ]
  },
  {
   "cell_type": "markdown",
   "metadata": {},
   "source": [
    "# If elif else Statement"
   ]
  },
  {
   "cell_type": "code",
   "execution_count": 9,
   "metadata": {},
   "outputs": [
    {
     "name": "stdout",
     "output_type": "stream",
     "text": [
      "Today is Holiday\n"
     ]
    }
   ],
   "source": [
    "day = \"Sunday\"\n",
    "if (day == \"Monday\"):\n",
    "\tprint(\"Today is Monday\")\n",
    "elif (day == \"Tuesday\"):\n",
    "\tprint(\"Today is Tuesday\")\n",
    "elif (day == \"Wednesday\"):\n",
    "\tprint(\"Today is Wednesday\")\n",
    "else:\n",
    "\tprint(\"Today is Holiday\")"
   ]
  },
  {
   "cell_type": "code",
   "execution_count": null,
   "metadata": {},
   "outputs": [],
   "source": []
  }
 ],
 "metadata": {
  "kernelspec": {
   "display_name": "Python 3",
   "language": "python",
   "name": "python3"
  },
  "language_info": {
   "codemirror_mode": {
    "name": "ipython",
    "version": 3
   },
   "file_extension": ".py",
   "mimetype": "text/x-python",
   "name": "python",
   "nbconvert_exporter": "python",
   "pygments_lexer": "ipython3",
   "version": "3.10.12"
  }
 },
 "nbformat": 4,
 "nbformat_minor": 2
}
