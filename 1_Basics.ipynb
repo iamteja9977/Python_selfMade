{
 "cells": [
  {
   "cell_type": "markdown",
   "metadata": {},
   "source": [
    "# Let's start Python"
   ]
  },
  {
   "cell_type": "markdown",
   "metadata": {},
   "source": [
    "Python has no command for declaring a variable.\n",
    "Variables are created when you assign a value to it.\n",
    "NOTE: Variable names are case-sensitive.\n",
    "\n",
    "Variables do not need to be declared with any particular type, and can even change type after they have been set."
   ]
  },
  {
   "cell_type": "markdown",
   "metadata": {},
   "source": [
    "# Variable names Rules"
   ]
  },
  {
   "cell_type": "markdown",
   "metadata": {},
   "source": [
    "* Variable names are Case Sensitive\n",
    "* Must start with the Letter and Underscore character\n",
    "* can not with the number\n",
    "* Keywords can not be an variable\n",
    "* Camel Case is preferred\n"
   ]
  },
  {
   "cell_type": "markdown",
   "metadata": {},
   "source": [
    "The print() function prints the specified message to the screen, or other standard output device. "
   ]
  },
  {
   "cell_type": "code",
   "execution_count": 21,
   "metadata": {},
   "outputs": [
    {
     "name": "stdout",
     "output_type": "stream",
     "text": [
      "Hello World\n"
     ]
    }
   ],
   "source": [
    "print(\"Hello World\")"
   ]
  },
  {
   "cell_type": "markdown",
   "metadata": {},
   "source": [
    "# Output Variable"
   ]
  },
  {
   "cell_type": "code",
   "execution_count": 22,
   "metadata": {},
   "outputs": [
    {
     "name": "stdout",
     "output_type": "stream",
     "text": [
      "Hello Teja ...!\n"
     ]
    }
   ],
   "source": [
    "var=\"Hello Teja ...!\"\n",
    "print(var)"
   ]
  },
  {
   "cell_type": "code",
   "execution_count": 23,
   "metadata": {},
   "outputs": [
    {
     "name": "stdout",
     "output_type": "stream",
     "text": [
      "Hello  Teja,  How are you..?\n",
      "\n",
      "\n",
      "Hello Teja, How are you..?\n"
     ]
    }
   ],
   "source": [
    "var1=\"Hello\"\n",
    "var2=\" Teja,\"\n",
    "var3=\" How are you..?\"\n",
    "print(var1,var2,var3)\n",
    "print(\"\\n\")\n",
    "#  here the \"+\" is used to concatenate the strings\n",
    "print(var1+var2+var3)"
   ]
  },
  {
   "cell_type": "markdown",
   "metadata": {},
   "source": [
    "# Comments"
   ]
  },
  {
   "cell_type": "markdown",
   "metadata": {},
   "source": [
    "Python has commenting capability for the purpose of in-code documentation.\n",
    "\n",
    "Comments start with a #,"
   ]
  },
  {
   "cell_type": "code",
   "execution_count": 36,
   "metadata": {},
   "outputs": [
    {
     "name": "stdout",
     "output_type": "stream",
     "text": [
      "iamteja9977\n"
     ]
    }
   ],
   "source": [
    "# print(\"iamteja9977\")\n",
    "print(\"iamteja9977\")"
   ]
  },
  {
   "cell_type": "markdown",
   "metadata": {},
   "source": [
    "# Python Build in Data Types"
   ]
  },
  {
   "cell_type": "markdown",
   "metadata": {},
   "source": [
    "\n",
    "Text Type:\tstr\n",
    "Numeric Types:\tint, float, complex\n",
    "Sequence Types:\tlist, tuple, range\n",
    "Mapping Type:\tdict\n",
    "Set Types:\tset, frozenset\n",
    "Boolean Type:\tbool\n",
    "Binary Types:\tbytes, bytearray, memoryview\n",
    "None Type:\tNoneType"
   ]
  },
  {
   "cell_type": "markdown",
   "metadata": {},
   "source": [
    "# Python Indentation"
   ]
  },
  {
   "cell_type": "markdown",
   "metadata": {},
   "source": [
    "Indentation refers to the spaces at the beginning of a code line. Where in other programming languages the indentation in code is for readability only, the indentation in Python is very important.\n",
    "NOTE: Python uses indentation to indicate a block of code."
   ]
  },
  {
   "cell_type": "markdown",
   "metadata": {},
   "source": [
    "# Declaring and initializing Variable"
   ]
  },
  {
   "cell_type": "code",
   "execution_count": 24,
   "metadata": {},
   "outputs": [
    {
     "name": "stdout",
     "output_type": "stream",
     "text": [
      "10\n",
      "10.23\n",
      "Teja\n",
      "Thiru\n",
      "10\n",
      "10.23\n",
      "Teja\n",
      "Thiru\n",
      "True\n",
      "True\n",
      "True\n",
      "$$$$$$$$$$\n"
     ]
    }
   ],
   "source": [
    "#Individual\n",
    "a = 10\n",
    "b = 10.23\n",
    "c = \"Teja\"\n",
    "d = 'Thiru'\n",
    "\n",
    "# Multiple\n",
    "# Many Values to Multiple Variables\n",
    "e, f, g, h = 10, 10.23, \"Teja\", 'Thiru'\n",
    "\n",
    "# Multiple with same value\n",
    "# One Value to Multiple Variables\n",
    "i = j = k = l = m = n = True\n",
    "\n",
    "print(a)\n",
    "print(b)\n",
    "print(c)\n",
    "print(d)\n",
    "print(e)\n",
    "print(f)\n",
    "print(g)\n",
    "print(h)\n",
    "print(i)\n",
    "print(j)\n",
    "print(n)\n",
    "print(\"$\"*10)\n"
   ]
  },
  {
   "cell_type": "markdown",
   "metadata": {},
   "source": [
    "# Arithmetic Operators"
   ]
  },
  {
   "cell_type": "markdown",
   "metadata": {},
   "source": [
    "type() is a built-in function that returns the type of the objects/data elements stored in any data type "
   ]
  },
  {
   "cell_type": "code",
   "execution_count": 25,
   "metadata": {},
   "outputs": [
    {
     "name": "stdout",
     "output_type": "stream",
     "text": [
      "6\n",
      "2\n",
      "18\n",
      "2.0\n",
      "<class 'float'>\n",
      "1\n",
      "25\n",
      "2\n",
      "-3\n"
     ]
    }
   ],
   "source": [
    "# Addition\n",
    "# print(4+2)\n",
    "a = 4\n",
    "b = 2\n",
    "total = a + b\n",
    "print(total)\n",
    "\n",
    "# Subtraction\n",
    "#print(8-2)\n",
    "a = 4\n",
    "b = 2\n",
    "total = a - b\n",
    "print(total)\n",
    "\n",
    "# Multiplication\n",
    "#print(4*2)\n",
    "a = 6\n",
    "b = 3\n",
    "value = a * b\n",
    "print(value)\n",
    "\n",
    "# Divison\n",
    "#print(4/2)\n",
    "a = 4\n",
    "b = 2\n",
    "value = a / b\n",
    "print(value)\n",
    "print(type(value))\n",
    "\n",
    "# Modulus\n",
    "#print(5%2)\n",
    "a = 5\n",
    "b = 2\n",
    "value = a % b\n",
    "print(value) \n",
    "\n",
    "# Exponent\n",
    "#print(5**2)\n",
    "a = 5\n",
    "b = 2\n",
    "value = a**b\n",
    "print(value)\n",
    "\n",
    "# Floor Division Positive\n",
    "#print(5//2)\n",
    "a = 5\n",
    "b = 2\n",
    "value = a//b\n",
    "print(value)\n",
    "\n",
    "# Floor Division Negative\n",
    "#print(-5//2)\n",
    "a = -5\n",
    "b = 2\n",
    "value = a//b\n",
    "print(value)"
   ]
  },
  {
   "cell_type": "markdown",
   "metadata": {},
   "source": [
    "# Comparison Operator"
   ]
  },
  {
   "cell_type": "markdown",
   "metadata": {},
   "source": [
    "Returns True and False only,\n",
    "if condition met return True else False"
   ]
  },
  {
   "cell_type": "code",
   "execution_count": 26,
   "metadata": {},
   "outputs": [
    {
     "name": "stdout",
     "output_type": "stream",
     "text": [
      "False\n",
      "True\n",
      "False\n",
      "True\n",
      "False\n",
      "True\n"
     ]
    }
   ],
   "source": [
    "#print(5<2)\n",
    "a = 5\n",
    "b = 2\n",
    "value = a < b\n",
    "print(value)\n",
    "\n",
    "#print(5>2)\n",
    "a = 5\n",
    "b = 2\n",
    "value = a > b\n",
    "print(value)\n",
    "\n",
    "#print(5<=2)\n",
    "a = 5\n",
    "b = 2\n",
    "value = a <= b\n",
    "print(value)\n",
    "\n",
    "#print(5>=2)\n",
    "a = 5\n",
    "b = 2\n",
    "value = a >= b\n",
    "print(value)\n",
    "\n",
    "#print(5==2)\n",
    "a = 5\n",
    "b = 2\n",
    "value = a == b\n",
    "print(value)\n",
    "\n",
    "#print(5!=2)\n",
    "a = 5\n",
    "b = 2\n",
    "value = a != b\n",
    "print(value)\n"
   ]
  },
  {
   "cell_type": "markdown",
   "metadata": {},
   "source": [
    "# Logical Operator"
   ]
  },
  {
   "cell_type": "markdown",
   "metadata": {},
   "source": [
    "-->'not' operator computes logical negation of its operand. \n",
    "    i.e, it produces true, if the operand evaluates to false, and false, if the operand evaluates to true.\n",
    "\n",
    "-->The result of \"x and y\" is true if both x and y evaluate to true. Otherwise, the result is false.\n",
    "\n",
    " -->The result of \"x or y\" is true if either x or y evaluates to true. Otherwise, the result is false."
   ]
  },
  {
   "cell_type": "code",
   "execution_count": 27,
   "metadata": {},
   "outputs": [
    {
     "name": "stdout",
     "output_type": "stream",
     "text": [
      "******* Logical and *******\n",
      "True\n",
      "False\n",
      "False\n",
      "False\n",
      "3\n",
      "200\n",
      "False\n",
      "False\n",
      "******* Logical or *******\n",
      "True\n",
      "True\n",
      "True\n",
      "False\n",
      "True\n",
      "True\n",
      "3\n",
      "3\n",
      "******* Logical not *******\n",
      "True\n",
      "False\n"
     ]
    }
   ],
   "source": [
    "#Logical and\n",
    "a = 5\n",
    "b = 2\n",
    "c = 3\n",
    "d = 200\n",
    "\n",
    "print(\"******* Logical and *******\")\n",
    "print(a>b and a>c)\n",
    "print(a>b and a<c)\n",
    "print(a<b and a>c)\n",
    "print(a<b and a<c)\n",
    "print(a>b and c)\n",
    "print(a>b and c and d)\n",
    "print(a<b and c)\n",
    "print(a<b and c and d)\n",
    "\n",
    "#Logical or\n",
    "print(\"******* Logical or *******\")\n",
    "print(a>b or a>c)\n",
    "print(a>b or a<c)\n",
    "print(a<b or a>c)\n",
    "print(a<b or a<c)\n",
    "print(a>b or c)\n",
    "print(a>b or c or d)\n",
    "print(a<b or c)\n",
    "print(a<b or c or d)\n",
    "\n",
    "#Logical not\n",
    "print(\"******* Logical not *******\")\n",
    "print(not(a<b))\n",
    "print(not(a>b))"
   ]
  },
  {
   "cell_type": "markdown",
   "metadata": {},
   "source": [
    "# Assignment Operator"
   ]
  },
  {
   "cell_type": "markdown",
   "metadata": {},
   "source": [
    "Simple assignment operator ( = )\n",
    "Add and equal operator ( += )\n",
    "Subtract and equal operator ( -= )\n",
    "Asterisk and equal operator ( *= )\n",
    "Divide and equal operator ( /= )\n",
    "Modulus and equal operator ( %= )\n",
    "Double divide and equal operator ( //= )\n",
    "Exponent assign operator ( **= )\n",
    "Bitwise And Operator ( &= )\n",
    "Bitwise OR Operator ( |= )\n",
    "Bitwise XOR Assignment Operator ( ^= )\n",
    "Bitwise right shift assignment operator ( >>= )\n",
    "Bitwise left shift assignment operator ( <<= )"
   ]
  },
  {
   "cell_type": "code",
   "execution_count": 28,
   "metadata": {},
   "outputs": [
    {
     "name": "stdout",
     "output_type": "stream",
     "text": [
      "30\n",
      "25\n",
      "15\n",
      "150\n",
      "15.0\n",
      "5.0\n",
      "25.0\n",
      "2.0\n"
     ]
    }
   ],
   "source": [
    "a = 10\n",
    "b = 20\n",
    "m = 15\n",
    "\n",
    "y = a + b\n",
    "print(y)\n",
    "\n",
    "m+=10\n",
    "print(m)\n",
    "\n",
    "m-=10\n",
    "print(m)\n",
    "\n",
    "m*=10\n",
    "print(m)\n",
    "\n",
    "m/=10\n",
    "print(m)\n",
    "\n",
    "m%=10\n",
    "print(m)\n",
    "\n",
    "m**=2\n",
    "print(m)\n",
    "\n",
    "m//=10\n",
    "print(m)\n"
   ]
  },
  {
   "cell_type": "markdown",
   "metadata": {},
   "source": [
    "# Bitwise Operator"
   ]
  },
  {
   "cell_type": "markdown",
   "metadata": {},
   "source": [
    "& \tAND\tSets each bit to 1 if both bits are 1,\tx & y\n",
    "\n",
    "|\tOR\tSets each bit to 1 if one of two bits is 1,\tx | y\t\n",
    "\n",
    "^\tXOR\tSets each bit to 1 if only one of two bits is 1,\tx ^ y\t\n",
    "\n",
    "~\tNOT\tInverts all the bits,\t~x\t\n",
    "\n",
    "<<\tZero fill left shift\tShift left by pushing zeros in from the right and let the leftmost bits fall off\n",
    "\tx << 2\t\n",
    "\n",
    ">>\tSigned right shift\tShift right by pushing copies of the leftmost bit in from the left, and let the rightmost bits fall off\n",
    "    x >> 2"
   ]
  },
  {
   "cell_type": "code",
   "execution_count": 29,
   "metadata": {},
   "outputs": [
    {
     "name": "stdout",
     "output_type": "stream",
     "text": [
      "~a =  -11\n",
      "a&b =  10\n",
      "a|b =  15\n",
      "a^b =  5\n",
      "a<<2 =  40\n",
      "a>>2 =  2\n"
     ]
    }
   ],
   "source": [
    "a = 10\t\t\t\t#\t0000 1010\n",
    "b = 15\t\t\t\t#\t0000 1111\t\n",
    "\n",
    "print('~a = ', ~a)\n",
    "print('a&b = ', a&b)\n",
    "print('a|b = ', a|b)\n",
    "print('a^b = ', a^b)\n",
    "print('a<<2 = ', a<<2)\n",
    "print('a>>2 = ', a>>2)"
   ]
  },
  {
   "cell_type": "markdown",
   "metadata": {},
   "source": [
    "# 'in' Operator"
   ]
  },
  {
   "cell_type": "markdown",
   "metadata": {},
   "source": [
    "in: Checks if a value exists within a sequence (like a list, tuple, or string)."
   ]
  },
  {
   "cell_type": "code",
   "execution_count": 30,
   "metadata": {},
   "outputs": [
    {
     "name": "stdout",
     "output_type": "stream",
     "text": [
      "True\n",
      "True\n",
      "False\n"
     ]
    }
   ],
   "source": [
    "st1 = \"Welcome to Teja Blogs\"\n",
    "print(\"to\" in st1)\n",
    "\n",
    "st2 = \"Welcome top Teja Blogs\"\n",
    "print(\"to\" in st2)\n",
    "\n",
    "st3 = \"Welcome to Teja Blogs\"\n",
    "print(\"subs\" in st3)"
   ]
  },
  {
   "cell_type": "markdown",
   "metadata": {},
   "source": [
    "# \"not in\" Operator"
   ]
  },
  {
   "cell_type": "markdown",
   "metadata": {},
   "source": [
    "not in: Negation of the 'in' operator, checks if a value does not exist within a sequence."
   ]
  },
  {
   "cell_type": "code",
   "execution_count": 31,
   "metadata": {},
   "outputs": [
    {
     "name": "stdout",
     "output_type": "stream",
     "text": [
      "False\n",
      "False\n",
      "True\n"
     ]
    }
   ],
   "source": [
    "st1 = \"Welcome to Teja Blogs\"\n",
    "print(\"to\" not in st1)\n",
    "\n",
    "st2 = \"Welcome top Teja Blogs\"\n",
    "print(\"to\" not in st2)\n",
    "\n",
    "st3 = \"Welcome to Teja Blogs\"\n",
    "print(\"subs\" not in st3)"
   ]
  },
  {
   "cell_type": "markdown",
   "metadata": {},
   "source": [
    "# \"is\" Operator"
   ]
  },
  {
   "cell_type": "markdown",
   "metadata": {},
   "source": [
    "is: Tests if two variables reference the same object in memory."
   ]
  },
  {
   "cell_type": "code",
   "execution_count": 32,
   "metadata": {},
   "outputs": [
    {
     "name": "stdout",
     "output_type": "stream",
     "text": [
      "True\n",
      "False\n"
     ]
    }
   ],
   "source": [
    "a = 10\n",
    "b = 10\n",
    "print(a is b)\n",
    "\n",
    "a = 10\n",
    "b = '10'\n",
    "print(a is b)"
   ]
  },
  {
   "cell_type": "markdown",
   "metadata": {},
   "source": [
    "# \"is not\" Operator"
   ]
  },
  {
   "cell_type": "markdown",
   "metadata": {},
   "source": [
    "not is: Negation of the 'is' operator, tests if two variables reference different objects in memory."
   ]
  },
  {
   "cell_type": "code",
   "execution_count": 33,
   "metadata": {},
   "outputs": [
    {
     "name": "stdout",
     "output_type": "stream",
     "text": [
      "False\n",
      "True\n"
     ]
    }
   ],
   "source": [
    "a = 10\n",
    "b = 10\n",
    "print(a is not b)\n",
    "\n",
    "a = 10\n",
    "b = '10'\n",
    "print(a is not b)"
   ]
  },
  {
   "cell_type": "markdown",
   "metadata": {},
   "source": [
    "# Operator Precedence\n"
   ]
  },
  {
   "cell_type": "markdown",
   "metadata": {},
   "source": [
    "It is in descending order (upper group has higher precedence than the lower ones)."
   ]
  },
  {
   "cell_type": "markdown",
   "metadata": {},
   "source": [
    "()\tParentheses\n",
    "**\tExponent\n",
    "+x, -x, ~x\tUnary plus, Unary minus, Bitwise NOT\n",
    "*, /, //, %\tMultiplication, Division, Floor division, Modulus\n",
    "+, -\tAddition, Subtraction\n",
    "<<, >>\tBitwise shift operators\n",
    "&\tBitwise AND\n",
    "^\tBitwise XOR\n",
    "|\tBitwise OR\n",
    "==, !=, >, >=, <, <=, is, is not, in, not in\tComparisons, Identity, Membership\n",
    "\n",
    "not\tLogical NOT\n",
    "and\tLogical AND\n",
    "or\tLogical OR"
   ]
  },
  {
   "cell_type": "code",
   "execution_count": 34,
   "metadata": {},
   "outputs": [
    {
     "name": "stdout",
     "output_type": "stream",
     "text": [
      "13\n"
     ]
    }
   ],
   "source": [
    "value = (1+1)*2**4//3+4-1\n",
    "print(value)"
   ]
  }
 ],
 "metadata": {
  "kernelspec": {
   "display_name": "Python 3",
   "language": "python",
   "name": "python3"
  },
  "language_info": {
   "codemirror_mode": {
    "name": "ipython",
    "version": 3
   },
   "file_extension": ".py",
   "mimetype": "text/x-python",
   "name": "python",
   "nbconvert_exporter": "python",
   "pygments_lexer": "ipython3",
   "version": "3.10.12"
  }
 },
 "nbformat": 4,
 "nbformat_minor": 2
}
