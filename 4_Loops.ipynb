{
 "cells": [
  {
   "cell_type": "markdown",
   "metadata": {},
   "source": [
    "# LOOPS in Python"
   ]
  },
  {
   "cell_type": "markdown",
   "metadata": {},
   "source": [
    "# While Loop"
   ]
  },
  {
   "cell_type": "code",
   "execution_count": 40,
   "metadata": {},
   "outputs": [
    {
     "name": "stdout",
     "output_type": "stream",
     "text": [
      "1\n",
      "2\n",
      "3\n",
      "4\n",
      "5\n",
      "Rest of the Code\n",
      "2\n",
      "4\n",
      "6\n",
      "8\n",
      "10\n",
      "Rest of the Code\n"
     ]
    }
   ],
   "source": [
    "# While Loop\n",
    "a = 1\n",
    "while a<=5:\n",
    "\tprint(a)\n",
    "\ta+=1\n",
    "print(\"Rest of the Code\")\n",
    "\n",
    "a = 2\n",
    "while a<=10:\n",
    "\tprint(a)\n",
    "\ta+=2\n",
    "print(\"Rest of the Code\")"
   ]
  },
  {
   "cell_type": "code",
   "execution_count": 41,
   "metadata": {},
   "outputs": [
    {
     "name": "stdout",
     "output_type": "stream",
     "text": [
      "1\n",
      "2\n",
      "3\n",
      "4\n",
      "5\n",
      "While Condition FALSE So Else Part Executed\n",
      "Rest of the Code\n"
     ]
    }
   ],
   "source": [
    "# While Else Loop\n",
    "a = 1\n",
    "while a<=5:\n",
    "\tprint(a)\n",
    "\ta+=1\n",
    "else:\n",
    "\tprint(\"While Condition FALSE So Else Part Executed\")\n",
    "print(\"Rest of the Code\")"
   ]
  },
  {
   "cell_type": "code",
   "execution_count": 42,
   "metadata": {},
   "outputs": [
    {
     "name": "stdout",
     "output_type": "stream",
     "text": [
      "1\n",
      "2\n",
      "3\n",
      "4\n",
      "5\n",
      "Rest of the Code\n"
     ]
    }
   ],
   "source": [
    "# Infinite While Loop\n",
    "# the while loop don't have stopping criteria\n",
    "# while True:\n",
    "# \tprint(\"Teja\")\n",
    "# print(\"Rest of the Code\")\n",
    "\n",
    "\n",
    "\n",
    "# Infinite While Loop\n",
    "# but here i have implemented Stopping condition using the keyword \"break\"\n",
    "i = 0\n",
    "while True:\n",
    "\ti+=1\n",
    "\tprint(i)\n",
    "\tif(i == 5):\n",
    "\t\tbreak\n",
    "print(\"Rest of the Code\")"
   ]
  },
  {
   "cell_type": "code",
   "execution_count": 43,
   "metadata": {},
   "outputs": [
    {
     "name": "stdout",
     "output_type": "stream",
     "text": [
      "Outer Loop 1\n",
      "Inner Loop 1\n",
      "Inner Loop 2\n",
      "Inner Loop 3\n",
      "Outer Loop 2\n",
      "Inner Loop 1\n",
      "Inner Loop 2\n",
      "Inner Loop 3\n",
      "Outer Loop 3\n",
      "Inner Loop 1\n",
      "Inner Loop 2\n",
      "Inner Loop 3\n",
      "Rest of Code\n"
     ]
    }
   ],
   "source": [
    "# Nested While Loop\n",
    "i = 1\n",
    "while i<=3:\n",
    "\tprint(\"Outer Loop\", i)\n",
    "\ti+=1\n",
    "\tj = 1\n",
    "\twhile j<=3:\n",
    "\t\tprint(\"Inner Loop\", j)\n",
    "\t\tj+=1\n",
    "\n",
    "print(\"Rest of Code\")"
   ]
  },
  {
   "cell_type": "markdown",
   "metadata": {},
   "source": [
    "# Range function in Python"
   ]
  },
  {
   "cell_type": "markdown",
   "metadata": {},
   "source": [
    "The Python range() function returns a sequence of numbers, in a given range.\n",
    "\n",
    "NOTE: range(Start, Stop)\n",
    "Stop is excluded in range function,Start is included"
   ]
  },
  {
   "cell_type": "code",
   "execution_count": 44,
   "metadata": {},
   "outputs": [
    {
     "name": "stdout",
     "output_type": "stream",
     "text": [
      "Range with stop\n",
      "0\n",
      "1\n",
      "2\n",
      "3\n",
      "4\n",
      "Range with start, stop\n",
      "1\n",
      "2\n",
      "3\n",
      "4\n",
      "Range with start, stop, step\n",
      "1\n",
      "3\n",
      "5\n",
      "7\n",
      "9\n",
      "Negative Range with start, stop, step\n",
      "-1\n",
      "-3\n",
      "-5\n",
      "-7\n",
      "-9\n",
      "Reverse Range with start, stop, step\n",
      "5\n",
      "4\n",
      "3\n",
      "2\n",
      "1\n"
     ]
    }
   ],
   "source": [
    "# Range Function\n",
    "print(\"Range with stop\")\n",
    "a = range(5)\n",
    "print(a[0])\n",
    "print(a[1])\n",
    "print(a[2])\n",
    "print(a[3])\n",
    "print(a[4])\n",
    "\n",
    "print(\"Range with start, stop\")\n",
    "b = range(1, 5)\n",
    "print(b[0])\n",
    "print(b[1])\n",
    "print(b[2])\n",
    "print(b[3])\n",
    "\n",
    "print(\"Range with start, stop, step\")\n",
    "c = range(1, 10, 2)\n",
    "print(c[0])\n",
    "print(c[1])\n",
    "print(c[2])\n",
    "print(c[3])\n",
    "print(c[4])\n",
    "\n",
    "print(\"Negative Range with start, stop, step\")\n",
    "n = range(-1, -10, -2)\n",
    "print(n[0])\n",
    "print(n[1])\n",
    "print(n[2])\n",
    "print(n[3])\n",
    "print(n[4])\n",
    "\n",
    "print(\"Reverse Range with start, stop, step\")\n",
    "r = range(5, 0, -1)\n",
    "print(r[0])\n",
    "print(r[1])\n",
    "print(r[2])\n",
    "print(r[3])\n",
    "print(r[4])\n",
    "\n"
   ]
  },
  {
   "cell_type": "markdown",
   "metadata": {},
   "source": [
    "# For loop"
   ]
  },
  {
   "cell_type": "code",
   "execution_count": 45,
   "metadata": {},
   "outputs": [
    {
     "name": "stdout",
     "output_type": "stream",
     "text": [
      "T\n",
      "e\n",
      "j\n",
      "a\n",
      "Rest of the Code\n"
     ]
    }
   ],
   "source": [
    "# For Loop\n",
    "st = \"Teja\"\n",
    "for ch in st:\n",
    "\tprint(ch)\n",
    "\n",
    "print(\"Rest of the Code\")"
   ]
  },
  {
   "cell_type": "code",
   "execution_count": 46,
   "metadata": {},
   "outputs": [
    {
     "name": "stdout",
     "output_type": "stream",
     "text": [
      "0 = T\n",
      "1 = h\n",
      "2 = i\n",
      "3 = r\n",
      "4 = u\n",
      "5 = p\n",
      "6 = a\n",
      "7 = t\n",
      "8 = h\n",
      "9 = i\n",
      "Rest of the Code\n"
     ]
    }
   ],
   "source": [
    "# For Loop with Range\n",
    "st = \"Thirupathi\"\n",
    "n = len(st)\n",
    "for i in range(n):\n",
    "\tprint(i, \"=\", st[i])\n",
    "\n",
    "print(\"Rest of the Code\")"
   ]
  },
  {
   "cell_type": "code",
   "execution_count": 47,
   "metadata": {},
   "outputs": [
    {
     "name": "stdout",
     "output_type": "stream",
     "text": [
      "0\n",
      "1\n",
      "2\n",
      "\n",
      "\n",
      "1\n",
      "2\n",
      "\n",
      "\n",
      "1\n",
      "3\n",
      "5\n",
      "7\n",
      "\n",
      "\n",
      "-1\n",
      "-3\n",
      "-5\n",
      "-7\n",
      "\n",
      "\n",
      "5\n",
      "4\n",
      "3\n",
      "2\n",
      "1\n",
      "\n",
      "\n"
     ]
    }
   ],
   "source": [
    "# for Loop with Range Function\n",
    "a = range(3)\n",
    "for i in a:\n",
    "\tprint(i)\n",
    "print(\"\\n\")\n",
    "\n",
    "b = range(1, 3)\n",
    "for i in b:\n",
    "\tprint(i)\n",
    "print(\"\\n\")\n",
    "\n",
    "c = range(1, 8, 2)\n",
    "for i in c:\n",
    "\tprint(i)\n",
    "print(\"\\n\")\n",
    "\n",
    "n = range(-1, -8, -2)\n",
    "for i in n:\n",
    "\tprint(i)\n",
    "print(\"\\n\")\n",
    "\n",
    "r = range(5, 0, -1)\n",
    "for i in r:\n",
    "\tprint(i)\n",
    "print(\"\\n\")\n"
   ]
  },
  {
   "cell_type": "code",
   "execution_count": 48,
   "metadata": {},
   "outputs": [
    {
     "name": "stdout",
     "output_type": "stream",
     "text": [
      "T\n",
      "e\n",
      "j\n",
      "a\n",
      "Else Part Executed\n",
      "Rest of the Code\n"
     ]
    }
   ],
   "source": [
    "# For Loop with Else\n",
    "st = \"Teja\"\n",
    "for ch in st:\n",
    "\tprint(ch)\n",
    "else:\n",
    "\tprint(\"Else Part Executed\")\n",
    "print(\"Rest of the Code\")"
   ]
  },
  {
   "cell_type": "code",
   "execution_count": 49,
   "metadata": {},
   "outputs": [
    {
     "name": "stdout",
     "output_type": "stream",
     "text": [
      "Outer Loop 0\n",
      "Inner Loop 0\n",
      "Inner Loop 1\n",
      "Inner Loop 2\n",
      "Outer Loop 1\n",
      "Inner Loop 0\n",
      "Inner Loop 1\n",
      "Inner Loop 2\n",
      "Outer Loop 2\n",
      "Inner Loop 0\n",
      "Inner Loop 1\n",
      "Inner Loop 2\n",
      "Rest of the Code\n"
     ]
    }
   ],
   "source": [
    "# Nested For Loop\n",
    "for i in range(3):\n",
    "\t\tprint(\"Outer Loop\", i)\n",
    "\t\tfor j in range(3):\n",
    "\t\t\tprint(\"Inner Loop\", j)\n",
    "print(\"Rest of the Code\")"
   ]
  },
  {
   "cell_type": "markdown",
   "metadata": {},
   "source": [
    "# There is no do while loop in Python, but you can modify a while loop to achieve the same functionality. "
   ]
  },
  {
   "cell_type": "markdown",
   "metadata": {},
   "source": [
    "There are three control statements you can use to break out of a while loop in Python: break , continue , and pass ."
   ]
  },
  {
   "cell_type": "markdown",
   "metadata": {},
   "source": [
    "# Keywords Break and continue"
   ]
  },
  {
   "cell_type": "markdown",
   "metadata": {},
   "source": [
    "The break statement in Python is used to terminate the loop or statement in which it is present. After that, the control will pass to the statements that are present after the break statement, if available. If the break statement is present in the nested loop, then it terminates only those loops which contain the break statement. "
   ]
  },
  {
   "cell_type": "markdown",
   "metadata": {},
   "source": [
    "Continue is also a loop control statement just like the break statement. continue statement is opposite to that of the break statement, instead of terminating the loop, it forces to execute the next iteration of the loop. As the name suggests the continue statement forces the loop to continue or execute the next iteration."
   ]
  },
  {
   "cell_type": "code",
   "execution_count": 50,
   "metadata": {},
   "outputs": [
    {
     "name": "stdout",
     "output_type": "stream",
     "text": [
      "0\n",
      "1\n",
      "2\n",
      "Rest of the Code\n",
      "****************\n",
      "0\n",
      "1\n",
      "2\n",
      "4\n",
      "Rest of the Code\n"
     ]
    }
   ],
   "source": [
    "# Break Statement\n",
    "for i in range(5):\n",
    "\tif(i == 3):\n",
    "\t\tbreak\n",
    "\tprint(i)\n",
    "print(\"Rest of the Code\")\n",
    "\n",
    "print(\"****************\")\n",
    "\n",
    "# Continue Statement\n",
    "for i in range(5):\n",
    "\tif(i == 3):\n",
    "\t\tcontinue\n",
    "\tprint(i)\n",
    "print(\"Rest of the Code\")\n",
    "\n"
   ]
  },
  {
   "cell_type": "markdown",
   "metadata": {},
   "source": [
    "# \"pass\"  keyword"
   ]
  },
  {
   "cell_type": "markdown",
   "metadata": {},
   "source": [
    "pass statement simply does nothing. The pass statement in Python is used when a statement is required syntactically but you do not want any command or code to execute. It is like a null operation, as nothing will happen if it is executed. Pass statements can also be used for writing empty loops. Pass is also used for empty control statements, functions, and classes."
   ]
  },
  {
   "cell_type": "code",
   "execution_count": 51,
   "metadata": {},
   "outputs": [
    {
     "name": "stdout",
     "output_type": "stream",
     "text": [
      "Else Part Do Something\n",
      "Rest of the Code\n",
      "*****************\n",
      "1\n",
      "2\n",
      "3\n",
      "4\n",
      "5\n",
      "Rest of the Code\n"
     ]
    }
   ],
   "source": [
    "# Pass Statement\n",
    "if(5<2):\n",
    "\tpass\n",
    "else:\n",
    "\tprint(\"Else Part Do Something\")\n",
    "print(\"Rest of the Code\")\n",
    "\n",
    "print(\"*****************\")\t\n",
    "\n",
    "i = 1\n",
    "while i<=5 :\n",
    "\tif(i == 3):\n",
    "\t\tpass\n",
    "\tprint(i)\n",
    "\ti+=1\n",
    "print(\"Rest of the Code\")"
   ]
  }
 ],
 "metadata": {
  "kernelspec": {
   "display_name": "Python 3",
   "language": "python",
   "name": "python3"
  },
  "language_info": {
   "codemirror_mode": {
    "name": "ipython",
    "version": 3
   },
   "file_extension": ".py",
   "mimetype": "text/x-python",
   "name": "python",
   "nbconvert_exporter": "python",
   "pygments_lexer": "ipython3",
   "version": "3.10.12"
  }
 },
 "nbformat": 4,
 "nbformat_minor": 2
}
