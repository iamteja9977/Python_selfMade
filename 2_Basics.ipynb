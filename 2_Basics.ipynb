{
 "cells": [
  {
   "cell_type": "markdown",
   "metadata": {},
   "source": [
    "# Type conversion"
   ]
  },
  {
   "cell_type": "markdown",
   "metadata": {},
   "source": [
    "Implicit Type Conversion: This happens automatically by the Python interpreter. When you perform operations between different data types, Python converts one or more of them to a common type behind the scenes so that the operation can be completed."
   ]
  },
  {
   "cell_type": "code",
   "execution_count": 1,
   "metadata": {},
   "outputs": [
    {
     "name": "stdout",
     "output_type": "stream",
     "text": [
      "2.5\n",
      "<class 'float'>\n",
      "15.5\n",
      "<class 'float'>\n",
      "HelloGeeky Shows\n",
      "<class 'str'>\n"
     ]
    },
    {
     "ename": "TypeError",
     "evalue": "unsupported operand type(s) for +: 'int' and 'str'",
     "output_type": "error",
     "traceback": [
      "\u001b[0;31m---------------------------------------------------------------------------\u001b[0m",
      "\u001b[0;31mTypeError\u001b[0m                                 Traceback (most recent call last)",
      "Cell \u001b[0;32mIn[1], line 21\u001b[0m\n\u001b[1;32m     19\u001b[0m q \u001b[38;5;241m=\u001b[39m \u001b[38;5;241m20\u001b[39m\n\u001b[1;32m     20\u001b[0m u \u001b[38;5;241m=\u001b[39m \u001b[38;5;124m'\u001b[39m\u001b[38;5;124m10\u001b[39m\u001b[38;5;124m'\u001b[39m\n\u001b[0;32m---> 21\u001b[0m r \u001b[38;5;241m=\u001b[39m \u001b[43mq\u001b[49m\u001b[43m \u001b[49m\u001b[38;5;241;43m+\u001b[39;49m\u001b[43m \u001b[49m\u001b[43mu\u001b[49m \n\u001b[1;32m     22\u001b[0m \u001b[38;5;28mprint\u001b[39m(r)\n\u001b[1;32m     24\u001b[0m m \u001b[38;5;241m=\u001b[39m \u001b[38;5;241m20\u001b[39m\n",
      "\u001b[0;31mTypeError\u001b[0m: unsupported operand type(s) for +: 'int' and 'str'"
     ]
    }
   ],
   "source": [
    "a = 5\n",
    "b = 2\n",
    "value = a/b\n",
    "print(value)\n",
    "print(type(value))\n",
    "\n",
    "x = 10\n",
    "y = 5.5\n",
    "total = x + y \n",
    "print(total)\n",
    "print(type(total))\n",
    "\n",
    "j = \"Hello\"\n",
    "k = \"Teja\"\n",
    "p = j + k\n",
    "print(p)\n",
    "print(type(p))\n",
    "\n",
    "q = 20\n",
    "u = '10' # it is a string, not number\n",
    "r = q + u \n",
    "print(r) # gives error\n",
    " # int and string can't be  added implicitly\n",
    "m = 20\n",
    "n = 'Geekyshows'\n",
    "t = m + n \n",
    "print(t) #this too gives error"
   ]
  },
  {
   "cell_type": "markdown",
   "metadata": {},
   "source": [
    "Explicit Type Conversion (Type Casting): This is when you manually convert the data from one type to another. You explicitly specify the type to which you want to convert the data."
   ]
  },
  {
   "cell_type": "code",
   "execution_count": 2,
   "metadata": {},
   "outputs": [
    {
     "name": "stdout",
     "output_type": "stream",
     "text": [
      "<class 'float'>\n",
      "2\n",
      "<class 'int'>\n",
      "<class 'str'>\n",
      "30\n",
      "10\n",
      "<class 'int'>\n",
      "10.0\n",
      "<class 'float'>\n",
      "(10+0j)\n",
      "<class 'complex'>\n",
      "10\n",
      "<class 'str'>\n",
      "('T', 'e', 'j', 'a')\n",
      "<class 'tuple'>\n",
      "['Suresh', 'Teja', 'Roshan', 'Ajay']\n",
      "<class 'list'>\n"
     ]
    }
   ],
   "source": [
    "a = 5\n",
    "b = 2\n",
    "value = a/b\n",
    "print(type(value))\n",
    "int_value = int(value)\n",
    "print(int_value)\n",
    "print(type(int_value))\n",
    "\n",
    "# String to Integer\n",
    "q = 20\n",
    "u = '10'\n",
    "print(type(u))\n",
    "r = q + int(u)\n",
    "print(r)\n",
    "\n",
    "# Float to Integer\n",
    "n1 = 10.36\n",
    "vn1 = int(n1)\n",
    "print(vn1)\n",
    "print(type(vn1))\n",
    "\n",
    "# Integer to Float\n",
    "n2 = 10\n",
    "vn2 = float(n2)\n",
    "print(vn2)\n",
    "print(type(vn2))\n",
    "\n",
    "# Integer to Complex\n",
    "n3 = 10\n",
    "vn3 = complex(n3)\n",
    "print(vn3)\n",
    "print(type(vn3))\n",
    "\n",
    "# Integer to String\n",
    "n4 = 10\n",
    "vn4 = str(n4)\n",
    "print(vn4)\n",
    "print(type(vn4))\n",
    "\n",
    "# String to Tuple\n",
    "n5 = \"Teja\"\n",
    "vn5 = tuple(n5)\n",
    "print(vn5)\n",
    "print(type(vn5))\n",
    "\n",
    "# Tuple to List\n",
    "n5 = (\"Suresh\", \"Teja\", \"Roshan\", \"Ajay\")\n",
    "vn5 = list(n5)\n",
    "print(vn5)\n",
    "print(type(vn5))"
   ]
  },
  {
   "cell_type": "markdown",
   "metadata": {},
   "source": [
    "# Input and output"
   ]
  },
  {
   "cell_type": "markdown",
   "metadata": {},
   "source": [
    "input"
   ]
  },
  {
   "cell_type": "code",
   "execution_count": 12,
   "metadata": {},
   "outputs": [
    {
     "name": "stdout",
     "output_type": "stream",
     "text": [
      "teja\n"
     ]
    }
   ],
   "source": [
    "# Getting user input with prompt ( single prompt)\n",
    "nm = input(\"What is Your Name: \")\n",
    "print(nm)"
   ]
  },
  {
   "cell_type": "markdown",
   "metadata": {},
   "source": [
    " using Multiple Prompts"
   ]
  },
  {
   "cell_type": "code",
   "execution_count": 13,
   "metadata": {},
   "outputs": [
    {
     "name": "stdout",
     "output_type": "stream",
     "text": [
      "\n",
      "You name is: Teja\n",
      "<class 'str'>\n",
      "1234\n",
      "<class 'int'>\n",
      "9876\n"
     ]
    }
   ],
   "source": [
    "# getting user input without prompt\n",
    "name = input()\n",
    "print(name)\n",
    "\n",
    "nm = input(\"What is Your Name: \")\n",
    "print(\"You name is:\", nm)\n",
    "\n",
    "# Getting input and convert it into integer\n",
    "mobile = input(\"Enter Mobile Number: \")\n",
    "print(type(mobile))\n",
    "mb = int(mobile)\n",
    "print(mb)\n",
    "print(type(mb))\n",
    "\n",
    "reg = int(input(\"Enter Registration Number: \"))\n",
    "print(reg)\n"
   ]
  },
  {
   "cell_type": "markdown",
   "metadata": {},
   "source": [
    "Output\n"
   ]
  },
  {
   "cell_type": "code",
   "execution_count": 6,
   "metadata": {},
   "outputs": [
    {
     "name": "stdout",
     "output_type": "stream",
     "text": [
      "Welcome to Teja Blogs\n",
      "\n",
      "Welcome to Teja Blogs\n",
      "Like Share Subscribe\n",
      "10\n",
      "Welcome\n",
      "to\n",
      "Teja Blogs\n",
      "[10, 20, -50, 21.3, 'Geekyshows']\n",
      "Like***Share***Subscribe\n",
      "WelcometoTeja Blogs\n",
      "We\tto\tTS\n",
      "10\n",
      "20 30\n",
      "20,30\n",
      "Value:  40\n",
      "My Name is  Teja and My age is  23\n"
     ]
    }
   ],
   "source": [
    "# print string with double quotes\n",
    "print(\"Welcome to Teja Blogs\")\n",
    "\n",
    "# print blank line\n",
    "print()\n",
    "\n",
    "# print string with Single quotes\n",
    "print('Welcome to Teja Blogs')\n",
    "\n",
    "# print each word in same line becoz inside one print function\n",
    "print(\"Like\", \"Share\", \"Subscribe\")\n",
    "\n",
    "# print integer\n",
    "print(10)\n",
    "\n",
    "# prints in separate line\n",
    "print(\"Welcome\")\n",
    "print(\"to\")\n",
    "print(\"Teja Blogs\")\n",
    "\n",
    "# print list\n",
    "data = [10, 20, -50, 21.3, 'Geekyshows']\n",
    "print(data)\n",
    "\n",
    "# print with separator\n",
    "print(\"Like\", \"Share\", \"Subscribe\", sep=\"***\")\n",
    "\n",
    "# print with end 'space'\n",
    "print(\"Welcome\", end=\"\")\n",
    "print(\"to\", end=\"\")\n",
    "print(\"Teja Blogs\")\n",
    "\n",
    "# print with end 'tab'\n",
    "print(\"We\", end=\"\\t\")\n",
    "print(\"to\", end=\"\\t\")\n",
    "print(\"TS\")\n",
    "\n",
    "# print variable value\n",
    "a = 10\n",
    "print(a)\n",
    "\n",
    "# print variable value with separator\n",
    "x = 20\n",
    "y = 30\n",
    "print(x, y)\n",
    "print(x, y, sep=',')\n",
    "\n",
    "# print with integer and string\n",
    "m = 40\n",
    "print(\"Value: \", m)\n",
    "\n",
    "# print with integer and string\n",
    "name = \"Teja\"\n",
    "age = 23\n",
    "print(\"My Name is \", name, \"and My age is \", age)"
   ]
  },
  {
   "cell_type": "markdown",
   "metadata": {},
   "source": [
    "# Escape Sequence"
   ]
  },
  {
   "cell_type": "markdown",
   "metadata": {},
   "source": [
    "\\’\tSingle quote\n",
    "\\\\’\tDouble quote\n",
    "\\\\\tBackslash\n",
    "\\n\tNewline\n",
    "\\r\tCarriage Return\n",
    "\\t\tHorizontal Tab\n",
    "\\b\tBackspace\n",
    "\\f\tFormfeed\n",
    "\\v\tVertical Tab\n",
    "\\0\tNull Character"
   ]
  },
  {
   "cell_type": "code",
   "execution_count": 10,
   "metadata": {},
   "outputs": [
    {
     "name": "stdout",
     "output_type": "stream",
     "text": [
      "Welcome to TejaBlog\n",
      "Welcome to\n",
      "TejaBlog\n",
      "Welcome to\tTejaBlog\n",
      "Welcome to \"TejaBlog\" \n",
      "Welcome to 'TejaBlog' \n"
     ]
    }
   ],
   "source": [
    "print(\"Welcome to TejaBlog\")\n",
    "print(\"Welcome to\\nTejaBlog\")\n",
    "print(\"Welcome to\\tTejaBlog\")\n",
    "print(\"Welcome to \\\"TejaBlog\\\" \")\n",
    "print(\"Welcome to \\'TejaBlog\\' \")"
   ]
  },
  {
   "cell_type": "code",
   "execution_count": null,
   "metadata": {},
   "outputs": [],
   "source": []
  }
 ],
 "metadata": {
  "kernelspec": {
   "display_name": "Python 3",
   "language": "python",
   "name": "python3"
  },
  "language_info": {
   "codemirror_mode": {
    "name": "ipython",
    "version": 3
   },
   "file_extension": ".py",
   "mimetype": "text/x-python",
   "name": "python",
   "nbconvert_exporter": "python",
   "pygments_lexer": "ipython3",
   "version": "3.10.12"
  }
 },
 "nbformat": 4,
 "nbformat_minor": 2
}
