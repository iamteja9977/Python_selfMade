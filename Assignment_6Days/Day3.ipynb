{
 "cells": [
  {
   "cell_type": "markdown",
   "metadata": {},
   "source": [
    "Ques1 Write a program using python data structure(tuple, list & dictionary) create a directory consistring of employee detail in {id, name, job role, joining date & salary}\n",
    "        perform following operation\n",
    "        1. add 5 employee to directory\n",
    "        2. check senior most employee from the directory#maxof()#optional\n",
    "        3. add a new employee to the directory\n",
    "        4. remove an employee from the directory\n",
    "        5. sort the employee \n",
    "        6. with the help of function display full name(prefix like mr. & mrs.,first name & last name)\n",
    "        7. list employee who's salary is above 80k"
   ]
  },
  {
   "cell_type": "code",
   "execution_count": 6,
   "metadata": {},
   "outputs": [
    {
     "ename": "KeyError",
     "evalue": "'salary'",
     "output_type": "error",
     "traceback": [
      "\u001b[0;31m---------------------------------------------------------------------------\u001b[0m",
      "\u001b[0;31mKeyError\u001b[0m                                  Traceback (most recent call last)",
      "Cell \u001b[0;32mIn[6], line 61\u001b[0m\n\u001b[1;32m     58\u001b[0m remove_employee(\u001b[38;5;241m5\u001b[39m)\n\u001b[1;32m     60\u001b[0m \u001b[38;5;66;03m# Sorting employees by salary\u001b[39;00m\n\u001b[0;32m---> 61\u001b[0m sorted_directory \u001b[38;5;241m=\u001b[39m \u001b[43msort_employees\u001b[49m\u001b[43m(\u001b[49m\u001b[43m)\u001b[49m\n\u001b[1;32m     63\u001b[0m \u001b[38;5;66;03m# Displaying full names of all employees\u001b[39;00m\n\u001b[1;32m     64\u001b[0m \u001b[38;5;28mprint\u001b[39m(\u001b[38;5;124m\"\u001b[39m\u001b[38;5;130;01m\\n\u001b[39;00m\u001b[38;5;124m -----Full Names(i used in my code) of Employees:-------\u001b[39m\u001b[38;5;130;01m\\n\u001b[39;00m\u001b[38;5;124m\"\u001b[39m)\n",
      "Cell \u001b[0;32mIn[6], line 34\u001b[0m, in \u001b[0;36msort_employees\u001b[0;34m()\u001b[0m\n\u001b[1;32m     33\u001b[0m \u001b[38;5;28;01mdef\u001b[39;00m \u001b[38;5;21msort_employees\u001b[39m():\n\u001b[0;32m---> 34\u001b[0m     \u001b[38;5;28;01mreturn\u001b[39;00m \u001b[38;5;28;43msorted\u001b[39;49m\u001b[43m(\u001b[49m\u001b[43mdirectory\u001b[49m\u001b[43m,\u001b[49m\u001b[43m \u001b[49m\u001b[43mkey\u001b[49m\u001b[38;5;241;43m=\u001b[39;49m\u001b[38;5;28;43;01mlambda\u001b[39;49;00m\u001b[43m \u001b[49m\u001b[43mx\u001b[49m\u001b[43m:\u001b[49m\u001b[43m \u001b[49m\u001b[43mx\u001b[49m\u001b[43m[\u001b[49m\u001b[38;5;124;43m\"\u001b[39;49m\u001b[38;5;124;43msalary\u001b[39;49m\u001b[38;5;124;43m\"\u001b[39;49m\u001b[43m]\u001b[49m\u001b[43m)\u001b[49m\n",
      "Cell \u001b[0;32mIn[6], line 34\u001b[0m, in \u001b[0;36msort_employees.<locals>.<lambda>\u001b[0;34m(x)\u001b[0m\n\u001b[1;32m     33\u001b[0m \u001b[38;5;28;01mdef\u001b[39;00m \u001b[38;5;21msort_employees\u001b[39m():\n\u001b[0;32m---> 34\u001b[0m     \u001b[38;5;28;01mreturn\u001b[39;00m \u001b[38;5;28msorted\u001b[39m(directory, key\u001b[38;5;241m=\u001b[39m\u001b[38;5;28;01mlambda\u001b[39;00m x: \u001b[43mx\u001b[49m\u001b[43m[\u001b[49m\u001b[38;5;124;43m\"\u001b[39;49m\u001b[38;5;124;43msalary\u001b[39;49m\u001b[38;5;124;43m\"\u001b[39;49m\u001b[43m]\u001b[49m)\n",
      "\u001b[0;31mKeyError\u001b[0m: 'salary'"
     ]
    }
   ],
   "source": [
    "# Function to display full names of all employees\n",
    "def display_full_names():\n",
    "    for employee in directory:\n",
    "        print(f\"{employee['first_name']} {employee['last_name']}\")\n",
    "\n",
    "# Function to display full name of an employee\n",
    "def display_full_name(prefix, first_name, last_name):\n",
    "    return f\"{prefix} {first_name} {last_name}\"\n",
    "\n",
    "# Find all employees above a certain salary threshold\n",
    "def find_employees_above_salary(threshold):\n",
    "    employees_above_threshold = []\n",
    "    for employee in directory:\n",
    "        if employee[\"salary\"] > threshold:\n",
    "            employees_above_threshold.append(employee)\n",
    "    return employees_above_threshold\n",
    "\n",
    "# Function to add a new employee to the directory\n",
    "def add_employee(employee):\n",
    "    directory.append(employee)\n",
    "\n",
    "\n",
    "# Function to remove an employee from the directory\n",
    "def remove_employee(employee_id):\n",
    "    for employee in directory:\n",
    "        if employee[\"id\"] == employee_id:\n",
    "            directory.remove(employee)\n",
    "            break\n",
    "\n",
    "\n",
    "\n",
    "# Function to sort the employees by salary\n",
    "def sort_employees():\n",
    "    return sorted(directory, key=lambda x: x[\"salary\"])\n",
    "\n",
    "# Initial directory with employee details\n",
    "directory = [\n",
    "{\"id\": 0, \"job_role\": \"Intern\", \"joining_date\": \"2024-04-01\", \"salary\": 10000}\n",
    "]\n",
    "\n",
    "# Adding new employees\n",
    "new_employees = [\n",
    "{\"id\": 1, \"job_role\": \"Manager\", \"joining_date\": \"2022-01-01\", \"salary\": 50000},\n",
    "{\"id\": 2, \"job_role\": \"Developer\", \"joining_date\": \"2022-02-15\", \"salary\": 8000},\n",
    "{\"id\": 3, \"job_role\": \"Designer\", \"joining_date\": \"2022-03-10\", \"salary\": 35000},\n",
    "{\"id\": 4, \"job_role\": \"Analyst\", \"joining_date\": \"2022-04-20\", \"salary\": 45000},\n",
    "{\"id\": 5, \"job_role\": \"Engineer\", \"joining_date\": \"2022-05-05\", \"salary\": 38000}\n",
    "]\n",
    "\n",
    "for employee in new_employees:\n",
    "    add_employee(employee)\n",
    "\n",
    "# Add new employee\n",
    "new_employee = {\"id\": 6, \"job_role\": \"Intern\", \"joining_date\": \"2025-04-01\", \"salar\":20000}\n",
    "add_employee(new_employee)\n",
    "\n",
    "# Removing an employee\n",
    "remove_employee(5)\n",
    "\n",
    "# Sorting employees by salary\n",
    "sorted_directory = sort_employees()\n",
    "\n",
    "# Displaying full names of all employees\n",
    "print(\"\\n -----Full Names(i used in my code) of Employees:-------\\n\")\n",
    "display_full_names()\n",
    "\n",
    "# Finding all employees above a certain salary threshold\n",
    "threshold_salary = 40000\n",
    "employees_above_threshold = find_employees_above_salary(threshold_salary)\n",
    "#----------------------------------------------------------------------------------\n",
    "\n",
    "print(\"\\n----------- After the deleting the Emp 5 Directory is:--------------------\\n\")\n",
    "print(directory)\n",
    "\n",
    "print(\"\\n------ Sorted Directory:--------------\\n\", sorted_directory)\n",
    "# print(\"\\n Full Name of First Employee after Sorting:\\n\", full_name)\n",
    "print(\"\\n ------Employees above Salary Threshold------ ($40,000):\\n \")\n",
    "for employee in employees_above_threshold:\n",
    "    print(employee)\n",
    "\n"
   ]
  },
  {
   "cell_type": "markdown",
   "metadata": {},
   "source": [
    "Ques2 Program to demostrate fibonacci series using recursion"
   ]
  },
  {
   "cell_type": "code",
   "execution_count": 1,
   "metadata": {},
   "outputs": [
    {
     "name": "stdout",
     "output_type": "stream",
     "text": [
      "Fibonacci sequence:\n",
      "0\n",
      "1\n",
      "1\n",
      "2\n",
      "3\n",
      "5\n",
      "8\n",
      "13\n",
      "21\n",
      "34\n"
     ]
    }
   ],
   "source": [
    "# Question 2\n",
    "def fibonacci(n):\n",
    "    if n <= 1:\n",
    "        return n\n",
    "    else:\n",
    "        return fibonacci(n-1) + fibonacci(n-2)\n",
    "n_terms = 10\n",
    "print(\"Fibonacci sequence:\")\n",
    "for i in range(n_terms):\n",
    "    print(fibonacci(i))"
   ]
  },
  {
   "cell_type": "code",
   "execution_count": null,
   "metadata": {},
   "outputs": [],
   "source": []
  }
 ],
 "metadata": {
  "kernelspec": {
   "display_name": "Python 3",
   "language": "python",
   "name": "python3"
  },
  "language_info": {
   "codemirror_mode": {
    "name": "ipython",
    "version": 3
   },
   "file_extension": ".py",
   "mimetype": "text/x-python",
   "name": "python",
   "nbconvert_exporter": "python",
   "pygments_lexer": "ipython3",
   "version": "3.10.12"
  }
 },
 "nbformat": 4,
 "nbformat_minor": 2
}
