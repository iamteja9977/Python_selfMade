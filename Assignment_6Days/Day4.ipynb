{
 "cells": [
  {
   "cell_type": "markdown",
   "metadata": {},
   "source": [
    "Ques1 Create a datasets in CSV format consisting of the following data:\n",
    "              product_id,product_name,category, price,quantity\n",
    "              Do the following:-\n",
    "                  a. Load the csv file into the pandas DataFrames\n",
    "                  b. Check for and handle any missing values or inconsistancy in datasets  (data cleaning)\n",
    "                  c. Calculate sum of quantity, average of price, total sales & top selling product\n",
    "                     [use the following methods: sum and mean]"
   ]
  },
  {
   "cell_type": "code",
   "execution_count": null,
   "metadata": {},
   "outputs": [],
   "source": [
    "# Let's code tomorrow\n",
    "#Refer to the  solution PDF "
   ]
  },
  {
   "cell_type": "markdown",
   "metadata": {},
   "source": [
    "          Ques2 Create a vehicle class with attributes no of wheels no of airbags,Max speed etc\n",
    "              Create a constructor & a method that displays vehicle's info\n"
   ]
  },
  {
   "cell_type": "markdown",
   "metadata": {},
   "source": [
    "     [important] Ques3 Create a child class bus from vehicle class that inherit all of the variables & methods from vehicles class\n",
    "              the bus class have its own attributes number at doors, fair per kilometer, number of seats, along with inherited attributes\n",
    "          Write a method to calculate bus fair by accepting distance in kilometer as parameter"
   ]
  },
  {
   "cell_type": "code",
   "execution_count": 3,
   "metadata": {},
   "outputs": [
    {
     "name": "stdout",
     "output_type": "stream",
     "text": [
      "------------------------------------\n",
      "Enter no_of_wheels  4\n",
      "Enter no_of_airbags  6\n",
      "Enter max_speed  120\n",
      "---------Base class is Ended---------------------\n",
      "Enter no_of_door  4\n",
      "Enter fare_per_km  45\n",
      "Enter no_seat  8\n",
      "Enter distance  200\n",
      "-----------------------------------\n",
      "Total fare is  9000.0\n"
     ]
    }
   ],
   "source": [
    "class Vehilce:\n",
    "    def __init__(self,no_of_wheels,no_of_airbags,max_speed):\n",
    "        self.no_of_wheels=no_of_wheels\n",
    "        self.no_of_airbags=no_of_airbags\n",
    "        self.max_speed=max_speed\n",
    "\n",
    "    def getdate_info(self):\n",
    "        self.no_of_wheels=input(\"Enter no_of_wheels \")\n",
    "        self.no_of_airbags=input(\"Enter no_of_airbags \")\n",
    "        self.max_speed=input(\"Enter max_speed \")\n",
    "\n",
    "    def display_info(self):\n",
    "        print(\"Enter no_of_wheels \",self.no_of_wheels)\n",
    "        print(\"Enter no_of_airbags \",self.no_of_airbags)\n",
    "        print(\"Enter max_speed \",self.max_speed)\n",
    "        print(\"---------Base class is Ended---------------------\")\n",
    "\n",
    "class Bus(Vehilce):\n",
    "    def __init__(self,no_of_wheels,no_of_airbags,max_speed,no_of_door,fare_per_km,no_seat,distance):\n",
    "        super().__init__(no_of_wheels,no_of_airbags,max_speed)\n",
    "        self.no_of_door=no_of_door\n",
    "        self.fare_per_km=fare_per_km\n",
    "        self.no_seat=no_seat\n",
    "        self.distance=distance\n",
    "    def getdate_bus(self):\n",
    "        self.no_of_door=input(\"Enter no_of_door \")\n",
    "        self.fare_per_km=input(\"Enter fare_per_km \")\n",
    "        self.no_seat=input(\"Enter no_seat \")\n",
    "        self.distance=input(\"Enter the distance \")\n",
    "\n",
    "    def display_bus(self):\n",
    "        print(\"------------------------------------\")\n",
    "        super().display_info()\n",
    "        print(\"Enter no_of_door \",self.no_of_door)\n",
    "        print(\"Enter fare_per_km \",self.fare_per_km)\n",
    "        print(\"Enter no_seat \",self.no_seat)\n",
    "        print(\"Enter distance \",self.distance)\n",
    "\n",
    "    def cal_bus_fare(self):\n",
    "        print(\"-----------------------------------\")\n",
    "        total_fare=float(self.distance)*float(self.fare_per_km)\n",
    "        print(\"Total fare is \",total_fare)\n",
    "\n",
    "bus_obj=Bus(6,4,200,2,5,11,3)\n",
    "bus_obj.getdate_info()\n",
    "bus_obj.getdate_bus()\n",
    "bus_obj.display_bus()\n",
    "bus_obj.cal_bus_fare()"
   ]
  },
  {
   "cell_type": "code",
   "execution_count": null,
   "metadata": {},
   "outputs": [],
   "source": []
  }
 ],
 "metadata": {
  "kernelspec": {
   "display_name": "Python 3",
   "language": "python",
   "name": "python3"
  },
  "language_info": {
   "codemirror_mode": {
    "name": "ipython",
    "version": 3
   },
   "file_extension": ".py",
   "mimetype": "text/x-python",
   "name": "python",
   "nbconvert_exporter": "python",
   "pygments_lexer": "ipython3",
   "version": "3.10.12"
  }
 },
 "nbformat": 4,
 "nbformat_minor": 2
}
