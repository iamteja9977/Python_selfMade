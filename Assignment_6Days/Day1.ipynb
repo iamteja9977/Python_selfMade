{
 "cells": [
  {
   "cell_type": "markdown",
   "metadata": {},
   "source": [
    "# Questions"
   ]
  },
  {
   "cell_type": "markdown",
   "metadata": {},
   "source": [
    "1.write a program to display 3 line message"
   ]
  },
  {
   "cell_type": "code",
   "execution_count": 18,
   "metadata": {},
   "outputs": [
    {
     "name": "stdout",
     "output_type": "stream",
     "text": [
      "line1\n",
      "line2\n",
      "line3\n"
     ]
    }
   ],
   "source": [
    "#Q1\n",
    "print(\"\"\"line1\n",
    "line2\n",
    "line3\"\"\")"
   ]
  },
  {
   "cell_type": "markdown",
   "metadata": {},
   "source": [
    "2.program to take input from user student no,student id,university name ,branch and print details\n"
   ]
  },
  {
   "cell_type": "code",
   "execution_count": 19,
   "metadata": {},
   "outputs": [
    {
     "name": "stdout",
     "output_type": "stream",
     "text": [
      "\n",
      "-------Here is the Details of the student------\n",
      "ID: 1234 \n",
      "Name: Teja \n",
      "Branch: CS \n",
      "University: Delhi University\n"
     ]
    }
   ],
   "source": [
    "#Q2\n",
    "S_id=input(\"Enter the studentID :\")\n",
    "name=input(\"Enter the Name of the Student :\")\n",
    "Branch=input(\"Enter the Branch of the student :\")\n",
    "university=input(\"Enter the university Name : \")\n",
    "print(\"\\n-------Here is the Details of the student------\")\n",
    "print(\"ID:\",S_id,\"\\nName:\",name,\"\\nBranch:\",Branch,\"\\nUniversity:\",university);"
   ]
  },
  {
   "cell_type": "markdown",
   "metadata": {},
   "source": [
    "3.Create a module consisting of two functions area of rectangle and area of square from the main program do the following\n",
    "    ->calculate area of rectangle and area of square\n",
    "    ->calculate area of square only\n",
    "    ->calculate area of rectangle only"
   ]
  },
  {
   "cell_type": "markdown",
   "metadata": {},
   "source": [
    "from Day1_Q3 import square, rec\n",
    "\n",
    "square(2)\n",
    "rec(2, 3)\n"
   ]
  },
  {
   "cell_type": "markdown",
   "metadata": {},
   "source": [
    "#  code in pdf, refer the submitted pdf ,becoz importing is possible need to create a other file"
   ]
  },
  {
   "cell_type": "markdown",
   "metadata": {},
   "source": []
  }
 ],
 "metadata": {
  "kernelspec": {
   "display_name": "Python 3",
   "language": "python",
   "name": "python3"
  },
  "language_info": {
   "codemirror_mode": {
    "name": "ipython",
    "version": 3
   },
   "file_extension": ".py",
   "mimetype": "text/x-python",
   "name": "python",
   "nbconvert_exporter": "python",
   "pygments_lexer": "ipython3",
   "version": "3.10.12"
  }
 },
 "nbformat": 4,
 "nbformat_minor": 2
}
