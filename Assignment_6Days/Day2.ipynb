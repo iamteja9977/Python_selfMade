{
 "cells": [
  {
   "cell_type": "markdown",
   "metadata": {},
   "source": [
    "Ques1. Program to demonstrate if elif & else by checking largest of three numbers"
   ]
  },
  {
   "cell_type": "code",
   "execution_count": 2,
   "metadata": {},
   "outputs": [
    {
     "name": "stdout",
     "output_type": "stream",
     "text": [
      "The largest number is: 9\n"
     ]
    }
   ],
   "source": [
    "#q1\n",
    "a = int(input(\"Enter the first number: \"))\n",
    "b = int(input(\"Enter the second number: \"))\n",
    "c = int(input(\"Enter the third number: \"))\n",
    "if a == b == c:\n",
    "    print(\"All three numbers are equal\")\n",
    "elif a >= b and a >= c:\n",
    "    print(\"The largest number is:\", a)\n",
    "elif b >= a and b >= c:\n",
    "    print(\"The largest number is:\", b)\n",
    "else:\n",
    "    print(\"The largest number is:\", c)"
   ]
  },
  {
   "cell_type": "markdown",
   "metadata": {},
   "source": [
    "  Ques2. Program to check whether number is perfect or not"
   ]
  },
  {
   "cell_type": "code",
   "execution_count": 4,
   "metadata": {},
   "outputs": [
    {
     "name": "stdout",
     "output_type": "stream",
     "text": [
      "Number is not a Perfect Number.\n"
     ]
    }
   ],
   "source": [
    "#q2\n",
    "num=int(input(\"Enter the number :\"));\n",
    "Sum = 0\n",
    "for i in range(1, num):\n",
    "    if(num % i == 0):\n",
    "        Sum = Sum + i\n",
    "if (Sum == num):\n",
    "    print(\"Number is a Perfect Number.\")\n",
    "else:\n",
    "    print(\"Number is not a Perfect Number.\")"
   ]
  },
  {
   "cell_type": "markdown",
   "metadata": {},
   "source": [
    "  Ques3. Read multi word string & print them in alphabetic order"
   ]
  },
  {
   "cell_type": "code",
   "execution_count": 8,
   "metadata": {},
   "outputs": [
    {
     "name": "stdout",
     "output_type": "stream",
     "text": [
      "Akash\n",
      "Roshan\n",
      "Sra\n",
      "Teja\n",
      "Vani\n"
     ]
    }
   ],
   "source": [
    "#q3\n",
    "word=input(\" enter the multi-word string :\")\n",
    "new_word=word.split()\n",
    "sorted_word=sorted(new_word)\n",
    "for i in sorted_word:\n",
    "    print(i)"
   ]
  },
  {
   "cell_type": "markdown",
   "metadata": {},
   "source": [
    "Ques4. Car = {\"i10\":\"grey\",\n",
    "                 \"kushaq\":Red\",\n",
    "                 \"i20\":\"white\"\n",
    "                 }\n",
    "           1. how many cars are there in dictionary\n",
    "           2. change the kushaq to black\n",
    "           3. remove the cari10"
   ]
  },
  {
   "cell_type": "code",
   "execution_count": 9,
   "metadata": {},
   "outputs": [
    {
     "name": "stdout",
     "output_type": "stream",
     "text": [
      "the no.of cars are : 3\n",
      "{'i18': 'grey', 'khushaq': 'blue', 'i20': 'white'}\n",
      "{'i18': 'grey', 'khushaq': 'blue'}\n"
     ]
    }
   ],
   "source": [
    "#q4\n",
    "Cars={\"i18\":\"grey\",\n",
    "    \"khushaq\":\"red\",\n",
    "    \"i20\":\"white\"\n",
    "}\n",
    "\n",
    "total_cars=len(Cars)\n",
    "print(\"the no.of cars are :\",total_cars)\n",
    "Cars[\"khushaq\"]= \"blue\"\n",
    "print(Cars)\n",
    "remove_car=Cars.pop(\"i20\")\n",
    "print(Cars)"
   ]
  },
  {
   "cell_type": "markdown",
   "metadata": {},
   "source": [
    " Ques5. Write a program to sort element of tuple #using sort method in order"
   ]
  },
  {
   "cell_type": "code",
   "execution_count": 10,
   "metadata": {},
   "outputs": [
    {
     "name": "stdout",
     "output_type": "stream",
     "text": [
      "(2, 3, 1, 6, 5, 7, 9)\n",
      "<class 'tuple'>\n",
      "[1, 2, 3, 5, 6, 7, 9]\n",
      "<class 'list'>\n"
     ]
    }
   ],
   "source": [
    "#q5\n",
    "tp=(2,3,1,6,5,7,9)\n",
    "print(tp)\n",
    "print(type(tp))\n",
    "\n",
    "new_tp=sorted(tp)\n",
    "print(new_tp)\n",
    "print(type(new_tp))"
   ]
  },
  {
   "cell_type": "markdown",
   "metadata": {},
   "source": [
    "Ques6. Implement contact book using dictionaries name, address, number, locality, city ask from user also"
   ]
  },
  {
   "cell_type": "code",
   "execution_count": 11,
   "metadata": {},
   "outputs": [
    {
     "name": "stdout",
     "output_type": "stream",
     "text": [
      "\n",
      " -------Details of the user1-------\n",
      "\n",
      "{'name': 'Teja', 'contact': 123456789, 'address': 'HYD', 'country': 'india', 'email': 'abc@gmail.com', 'PinCode': 503114}\n",
      "\n",
      " ------ Details of the all users in the Dist ------\n",
      "\n",
      "{'user1': {'name': 'Teja', 'contact': 123456789, 'address': 'HYD', 'country': 'india', 'email': 'abc@gmail.com', 'PinCode': 503114}, 'user2': {'name': 'Teja2', 'contact': 12344444789, 'address': 'delhi', 'country': 'india', 'email': 'xyz@gmail.com', 'PinCode': 503114}}\n"
     ]
    }
   ],
   "source": [
    "#q6\n",
    "contacts={\"user1\":{\"name\":\"Teja\",\n",
    "    \"contact\": 123456789,\n",
    "    \"address\":\"HYD\",\n",
    "    \"country\":\"india\",\n",
    "    \"email\":\"abc@gmail.com\",\n",
    "    \"PinCode\":503114\n",
    "},\n",
    "    \"user2\": {\"name\":\"Teja2\",\n",
    "    \"contact\": 12344444789,\n",
    "    \"address\":\"delhi\",\n",
    "    \"country\":\"india\",\n",
    "    \"email\":\"xyz@gmail.com\",\n",
    "    \"PinCode\":503114\n",
    "}\n",
    "}\n",
    "\n",
    "print(\"\\n -------Details of the user1-------\\n\")\n",
    "print(contacts[\"user1\"])\n",
    "print(\"\\n ------ Details of the all users in the Dist ------\\n\")\n",
    "print(contacts)"
   ]
  }
 ],
 "metadata": {
  "kernelspec": {
   "display_name": "Python 3",
   "language": "python",
   "name": "python3"
  },
  "language_info": {
   "codemirror_mode": {
    "name": "ipython",
    "version": 3
   },
   "file_extension": ".py",
   "mimetype": "text/x-python",
   "name": "python",
   "nbconvert_exporter": "python",
   "pygments_lexer": "ipython3",
   "version": "3.10.12"
  }
 },
 "nbformat": 4,
 "nbformat_minor": 2
}
